{
  "nbformat": 4,
  "nbformat_minor": 0,
  "metadata": {
    "colab": {
      "provenance": []
    },
    "kernelspec": {
      "name": "python3",
      "display_name": "Python 3"
    },
    "language_info": {
      "name": "python"
    }
  },
  "cells": [
    {
      "cell_type": "markdown",
      "source": [
        "# **Image Datasets**"
      ],
      "metadata": {
        "id": "lpxWju48iT6j"
      }
    },
    {
      "cell_type": "markdown",
      "source": [
        "In this article, we will briefly talk about \"Fashion MNIST\", \"MNIST\" and \"CIFAR-10\" data sets.\n",
        "\n",
        "1. **Fashion MNIST:** It is a dataset consisting of **70,000 grayscale images**. The images consist of Zalando's clothing products, such as T-shirts, shoes and bags, divided into 10 different categories. Each image is **28x28 pixels** in size. The Fashion MNIST dataset is used as a more challenging alternative, especially due to the simplicity of the “MNIST” dataset. It is a popular testbed for image classification and development of deep learning models.\n",
        "\n",
        "2. **MNIST:** MNIST is an abbreviation for \"Modified National Institute of Standards and Technology\". The MNIST dataset consists of images of handwritten **digits (0-9)**. Each image is **28x28 pixels** in size and in grayscale. The MNIST dataset is widely used for testing deep learning and machine learning models on basic image recognition tasks. This dataset provides an entry-level benchmark for simple image classification problems.\n",
        "\n",
        "3. **CIFAR-10:** CIFAR-10 is an acronym for \"Canadian Institute for Advanced Research.\" The CIFAR-10 dataset contains **60,000** color images of 10 different classes. Each image is **32x32 pixels** in size and is in three-channel (RGB) color format. The CIFAR-10 dataset is a popular dataset used for computer vision tasks. This dataset is used to test deep learning models on more complex, real-world data."
      ],
      "metadata": {
        "id": "dTExN-9LiXUY"
      }
    },
    {
      "cell_type": "markdown",
      "source": [
        "# **Coding**"
      ],
      "metadata": {
        "id": "Cr6jofrbrBMT"
      }
    },
    {
      "cell_type": "markdown",
      "source": [
        "In this study, we will use the CIFAR-10 dataset. First, let's load the dataset and partition it into training set/test set."
      ],
      "metadata": {
        "id": "a0Yz96A8mv3X"
      }
    },
    {
      "cell_type": "code",
      "source": [
        "import tensorflow as tf\n",
        "from tensorflow.keras.datasets import cifar10"
      ],
      "metadata": {
        "id": "nn2fdYEjm9Vv"
      },
      "execution_count": 3,
      "outputs": []
    },
    {
      "cell_type": "code",
      "source": [
        "import warnings\n",
        "warnings.filterwarnings(\"ignore\")"
      ],
      "metadata": {
        "id": "KUOBUmgZ6J_i"
      },
      "execution_count": 15,
      "outputs": []
    },
    {
      "cell_type": "code",
      "source": [
        "(x_train, y_train), (x_test, y_test) = cifar10.load_data()"
      ],
      "metadata": {
        "id": "HVXzR7T6ngF_"
      },
      "execution_count": 4,
      "outputs": []
    },
    {
      "cell_type": "code",
      "source": [
        "print(f\"Train set size: {x_train.shape}, Labels size: {y_train.shape}\")\n",
        "print(f\"Test set size: {x_test.shape}, Labels size: {y_test.shape}\")"
      ],
      "metadata": {
        "colab": {
          "base_uri": "https://localhost:8080/"
        },
        "id": "i5ytr2FAomQc",
        "outputId": "7b788d82-39cb-459a-8ef5-951f722c008b"
      },
      "execution_count": 5,
      "outputs": [
        {
          "output_type": "stream",
          "name": "stdout",
          "text": [
            "Train set size: (50000, 32, 32, 3), Labels size: (50000, 1)\n",
            "Test set size: (10000, 32, 32, 3), Labels size: (10000, 1)\n"
          ]
        }
      ]
    },
    {
      "cell_type": "markdown",
      "source": [
        "Let's print the dimensions of the images in the dataset."
      ],
      "metadata": {
        "id": "MLNBr9frpUY0"
      }
    },
    {
      "cell_type": "code",
      "source": [
        "print(f\"Size of images in training dataset: {x_train.shape[1:]} (Height, Width, Channel)\")\n",
        "print(f\"Size of images in the test dataset: {x_test.shape[1:]} (Height, Width, Channel)\")"
      ],
      "metadata": {
        "colab": {
          "base_uri": "https://localhost:8080/"
        },
        "id": "VRkLFRW5o0gl",
        "outputId": "d107931e-420e-453e-e6c1-933effc527d5"
      },
      "execution_count": 6,
      "outputs": [
        {
          "output_type": "stream",
          "name": "stdout",
          "text": [
            "Size of images in training dataset: (32, 32, 3) (Height, Width, Channel)\n",
            "Size of images in the test dataset: (32, 32, 3) (Height, Width, Channel)\n"
          ]
        }
      ]
    },
    {
      "cell_type": "markdown",
      "source": [
        "Let's plot some of the images in the dataset to get to know the data better."
      ],
      "metadata": {
        "id": "LR2nJsjkqEL9"
      }
    },
    {
      "cell_type": "code",
      "source": [
        "import matplotlib.pyplot as plt\n",
        "\n",
        "class_names = ['Airplane', 'Automobile', 'Bird', 'Cat', 'Deer',\n",
        "               'Dog', 'Frog', 'Horse', 'Ship', 'Truck']\n",
        "\n",
        "plt.figure(figsize=(10, 5))\n",
        "for i in range(15):\n",
        "    plt.subplot(3, 5, i+1)\n",
        "    plt.imshow(x_train[i])\n",
        "    plt.title(class_names[y_train[i][0]])\n",
        "    plt.axis('off')\n",
        "\n",
        "plt.tight_layout()\n",
        "plt.show()"
      ],
      "metadata": {
        "colab": {
          "base_uri": "https://localhost:8080/",
          "height": 507
        },
        "id": "Cd-1ial-p3Yx",
        "outputId": "a75cbbd3-d9d8-4664-c53b-9f49972d6de0"
      },
      "execution_count": 7,
      "outputs": [
        {
          "output_type": "display_data",
          "data": {
            "text/plain": [
              "<Figure size 1000x500 with 15 Axes>"
            ],
            "image/png": "[encoded data removed]"
          },
          "metadata": {}
        }
      ]
    },
    {
      "cell_type": "markdown",
      "source": [
        "Now let’s normalize the images in the CIFAR-10 dataset. To normalize the images, we need to scale the pixel values ​​from the range [0, 255] to the range [0, 1]. This will allow the network to learn faster and more effectively during training."
      ],
      "metadata": {
        "id": "88I8p7cFqyqB"
      }
    },
    {
      "cell_type": "code",
      "source": [
        "x_train_normalized = x_train.astype('float32') / 255.0\n",
        "x_test_normalized = x_test.astype('float32') / 255.0"
      ],
      "metadata": {
        "id": "mZrB4L3WrTKJ"
      },
      "execution_count": 8,
      "outputs": []
    },
    {
      "cell_type": "code",
      "source": [
        "print(f\"Size of training data: {x_train_normalized.shape}\")\n",
        "print(f\"Normalized first pixel value: {x_train_normalized[0][0][0]}\")\n"
      ],
      "metadata": {
        "colab": {
          "base_uri": "https://localhost:8080/"
        },
        "id": "plxrQ-S8rUM-",
        "outputId": "2244911e-eef7-432c-f38d-0815bc3aa947"
      },
      "execution_count": 9,
      "outputs": [
        {
          "output_type": "stream",
          "name": "stdout",
          "text": [
            "Size of training data: (50000, 32, 32, 3)\n",
            "Normalized first pixel value: [0.23137255 0.24313726 0.24705882]\n"
          ]
        }
      ]
    },
    {
      "cell_type": "markdown",
      "source": [
        "Now, let's build and train the **XGboost** and **CatBoost** machine learning models. To build and train these models, we first need to flatten the dataset and prepare it in a suitable format that the models can use. Then, let's train these models and evaluate their performance using **\"Accuracy\"**, **\"F1-score\"**, **\"Precision\"**, and **\"Recall\"** metrics."
      ],
      "metadata": {
        "id": "uA5WdITgskhi"
      }
    },
    {
      "cell_type": "code",
      "source": [
        "import numpy as np\n",
        "import pandas as pd\n",
        "import xgboost as xgb\n",
        "import catboost\n",
        "from catboost import CatBoostClassifier\n",
        "from sklearn.metrics import accuracy_score, f1_score, precision_score, recall_score\n",
        "from sklearn.model_selection import train_test_split\n",
        "from sklearn.preprocessing import LabelBinarizer"
      ],
      "metadata": {
        "id": "INPhzP4K5JSu"
      },
      "execution_count": 10,
      "outputs": []
    },
    {
      "cell_type": "code",
      "source": [
        "# Let's take the sample size as 1000 to shorten the training phase.\n",
        "num_samples = 1000\n",
        "x_train_small, _, y_train_small, _ = train_test_split(x_train, y_train, train_size=num_samples, random_state=5)"
      ],
      "metadata": {
        "id": "JsQJZhej5QGg"
      },
      "execution_count": 20,
      "outputs": []
    },
    {
      "cell_type": "code",
      "source": [
        "# Convert images to 1D vectors.\n",
        "x_train_small_flattened = x_train_small.reshape((x_train_small.shape[0], -1))\n",
        "x_test_flattened = x_test.reshape((x_test.shape[0], -1))"
      ],
      "metadata": {
        "id": "BsYt5KKh5naO"
      },
      "execution_count": 21,
      "outputs": []
    },
    {
      "cell_type": "code",
      "source": [
        "# One-hot encode labels\n",
        "lb = LabelBinarizer()\n",
        "y_train_small_encoded = lb.fit_transform(y_train_small)\n",
        "y_test_encoded = lb.transform(y_test)"
      ],
      "metadata": {
        "id": "3r1sikwL5rKr"
      },
      "execution_count": 22,
      "outputs": []
    },
    {
      "cell_type": "code",
      "source": [
        "# Let's create and train our XGBoost model. Then let's make predictions and evaluate our success.\n",
        "xgb_model = xgb.XGBClassifier(use_label_encoder=False, eval_metric='mlogloss')\n",
        "xgb_model.fit(x_train_small_flattened, y_train_small_encoded)\n",
        "\n",
        "xgb_predictions = xgb_model.predict(x_test_flattened)\n",
        "\n",
        "xgb_accuracy = accuracy_score(y_test_encoded, xgb_predictions)\n",
        "xgb_f1 = f1_score(y_test_encoded, xgb_predictions, average='weighted')\n",
        "xgb_precision = precision_score(y_test_encoded, xgb_predictions, average='weighted')\n",
        "xgb_recall = recall_score(y_test_encoded, xgb_predictions, average='weighted')\n",
        "\n",
        "print(\"XGBoost Performance:\")\n",
        "print(f\"Accuracy: {xgb_accuracy:.2f}\")\n",
        "print(f\"F1-score: {xgb_f1:.2f}\")\n",
        "print(f\"Precision: {xgb_precision:.2f}\")\n",
        "print(f\"Recall: {xgb_recall:.2f}\")"
      ],
      "metadata": {
        "colab": {
          "base_uri": "https://localhost:8080/"
        },
        "id": "JLyZhbO95u3l",
        "outputId": "c2d0f7a0-9f82-4406-b3e8-4bab8e21441f"
      },
      "execution_count": 23,
      "outputs": [
        {
          "output_type": "stream",
          "name": "stdout",
          "text": [
            "XGBoost Performance:\n",
            "Accuracy: 0.10\n",
            "F1-score: 0.17\n",
            "Precision: 0.53\n",
            "Recall: 0.11\n"
          ]
        }
      ]
    },
    {
      "cell_type": "code",
      "source": [
        "# Now let's create and train our CatBoost model. Then let's make predictions and evaluate our success.\n",
        "catboost_model = CatBoostClassifier(learning_rate=0.1, iterations=10, depth=6, verbose=0)\n",
        "\n",
        "# Convert one-hot encoded labels back to a 1D array of labels\n",
        "y_train_small_decoded = lb.inverse_transform(y_train_small_encoded)\n",
        "\n",
        "catboost_model.fit(x_train_small_flattened, y_train_small_decoded)\n",
        "\n",
        "catboost_predictions = catboost_model.predict(x_test_flattened)\n",
        "\n",
        "# Convert Catboost predictions to a 1D array\n",
        "catboost_predictions = catboost_predictions.flatten()\n",
        "\n",
        "# Use LabelBinarizer to transform catboost_predictions to one-hot encoded format\n",
        "catboost_predictions = lb.transform(catboost_predictions)\n",
        "\n",
        "catboost_accuracy = accuracy_score(y_test_encoded, catboost_predictions)\n",
        "catboost_f1 = f1_score(y_test_encoded, catboost_predictions, average='weighted')\n",
        "catboost_precision = precision_score(y_test_encoded, catboost_predictions, average='weighted')\n",
        "catboost_recall = recall_score(y_test_encoded, catboost_predictions, average='weighted')\n",
        "\n",
        "print(\"CatBoost Performance:\")\n",
        "print(f\"Accuracy: {catboost_accuracy:.2f}\")\n",
        "print(f\"F1-score: {catboost_f1:.2f}\")\n",
        "print(f\"Precision: {catboost_precision:.2f}\")\n",
        "print(f\"Recall: {catboost_recall:.2f}\")"
      ],
      "metadata": {
        "colab": {
          "base_uri": "https://localhost:8080/"
        },
        "id": "ymGRgFn-AzOv",
        "outputId": "f7301426-d545-4714-8ab6-504a2bb7c6f3"
      },
      "execution_count": 28,
      "outputs": [
        {
          "output_type": "stream",
          "name": "stdout",
          "text": [
            "CatBoost Performance:\n",
            "Accuracy: 0.25\n",
            "F1-score: 0.21\n",
            "Precision: 0.28\n",
            "Recall: 0.25\n"
          ]
        }
      ]
    },
    {
      "cell_type": "markdown",
      "source": [
        "As can be seen, the CatBoost model performed better than the XGBoost model. However, these successes are quite low (Fail). There may be several different reasons for this failure. The most important reasons are the small data set and low model complexity. So let's finish our work by building a deep learning model."
      ],
      "metadata": {
        "id": "wK3pvpf9Dyc_"
      }
    },
    {
      "cell_type": "code",
      "source": [
        "from tensorflow.keras.models import Sequential\n",
        "from tensorflow.keras.layers import Conv2D, MaxPooling2D, Flatten, Dense\n",
        "from tensorflow.keras.utils import to_categorical"
      ],
      "metadata": {
        "id": "UD8WW-XJD5q0"
      },
      "execution_count": 29,
      "outputs": []
    },
    {
      "cell_type": "code",
      "source": [
        "y_train_encoded = to_categorical(y_train)\n",
        "y_test_encoded = to_categorical(y_test)"
      ],
      "metadata": {
        "id": "aJo-XBXjEOTO"
      },
      "execution_count": 30,
      "outputs": []
    },
    {
      "cell_type": "code",
      "source": [
        "model = Sequential([\n",
        "    Conv2D(32, (3, 3), activation='relu', input_shape=(32, 32, 3)),\n",
        "    MaxPooling2D((2, 2)),\n",
        "    Conv2D(64, (3, 3), activation='relu'),\n",
        "    MaxPooling2D((2, 2)),\n",
        "    Conv2D(128, (3, 3), activation='relu'),\n",
        "    MaxPooling2D((2, 2)),\n",
        "    Flatten(),\n",
        "    Dense(128, activation='relu'),\n",
        "    Dense(10, activation='softmax')\n",
        "])"
      ],
      "metadata": {
        "id": "lzuKi6aKEXab"
      },
      "execution_count": 31,
      "outputs": []
    },
    {
      "cell_type": "code",
      "source": [
        "model.compile(optimizer='adam',\n",
        "              loss='categorical_crossentropy',\n",
        "              metrics=['accuracy'])"
      ],
      "metadata": {
        "id": "q-4hBsQTEajF"
      },
      "execution_count": 32,
      "outputs": []
    },
    {
      "cell_type": "code",
      "source": [
        "history = model.fit(x_train_normalized, y_train_encoded,\n",
        "                    epochs=10,\n",
        "                    batch_size=64,\n",
        "                    validation_split=0.2)"
      ],
      "metadata": {
        "colab": {
          "base_uri": "https://localhost:8080/"
        },
        "id": "h2ZJPNI9Ehw2",
        "outputId": "4ac3d5bf-7fbe-4b82-9ac3-0c627b2cfce8"
      },
      "execution_count": 33,
      "outputs": [
        {
          "output_type": "stream",
          "name": "stdout",
          "text": [
            "Epoch 1/10\n",
            "\u001b[1m625/625\u001b[0m \u001b[32m━━━━━━━━━━━━━━━━━━━━\u001b[0m\u001b[37m\u001b[0m \u001b[1m59s\u001b[0m 91ms/step - accuracy: 0.3173 - loss: 1.8356 - val_accuracy: 0.4922 - val_loss: 1.3876\n",
            "Epoch 2/10\n",
            "\u001b[1m625/625\u001b[0m \u001b[32m━━━━━━━━━━━━━━━━━━━━\u001b[0m\u001b[37m\u001b[0m \u001b[1m56s\u001b[0m 90ms/step - accuracy: 0.5392 - loss: 1.2880 - val_accuracy: 0.5883 - val_loss: 1.1667\n",
            "Epoch 3/10\n",
            "\u001b[1m625/625\u001b[0m \u001b[32m━━━━━━━━━━━━━━━━━━━━\u001b[0m\u001b[37m\u001b[0m \u001b[1m82s\u001b[0m 89ms/step - accuracy: 0.6186 - loss: 1.0859 - val_accuracy: 0.6410 - val_loss: 1.0397\n",
            "Epoch 4/10\n",
            "\u001b[1m625/625\u001b[0m \u001b[32m━━━━━━━━━━━━━━━━━━━━\u001b[0m\u001b[37m\u001b[0m \u001b[1m83s\u001b[0m 91ms/step - accuracy: 0.6632 - loss: 0.9609 - val_accuracy: 0.6446 - val_loss: 1.0087\n",
            "Epoch 5/10\n",
            "\u001b[1m625/625\u001b[0m \u001b[32m━━━━━━━━━━━━━━━━━━━━\u001b[0m\u001b[37m\u001b[0m \u001b[1m79s\u001b[0m 87ms/step - accuracy: 0.7004 - loss: 0.8514 - val_accuracy: 0.6722 - val_loss: 0.9522\n",
            "Epoch 6/10\n",
            "\u001b[1m625/625\u001b[0m \u001b[32m━━━━━━━━━━━━━━━━━━━━\u001b[0m\u001b[37m\u001b[0m \u001b[1m55s\u001b[0m 89ms/step - accuracy: 0.7260 - loss: 0.7869 - val_accuracy: 0.6748 - val_loss: 0.9596\n",
            "Epoch 7/10\n",
            "\u001b[1m625/625\u001b[0m \u001b[32m━━━━━━━━━━━━━━━━━━━━\u001b[0m\u001b[37m\u001b[0m \u001b[1m81s\u001b[0m 87ms/step - accuracy: 0.7530 - loss: 0.7175 - val_accuracy: 0.6882 - val_loss: 0.9189\n",
            "Epoch 8/10\n",
            "\u001b[1m625/625\u001b[0m \u001b[32m━━━━━━━━━━━━━━━━━━━━\u001b[0m\u001b[37m\u001b[0m \u001b[1m82s\u001b[0m 88ms/step - accuracy: 0.7731 - loss: 0.6495 - val_accuracy: 0.7094 - val_loss: 0.8750\n",
            "Epoch 9/10\n",
            "\u001b[1m625/625\u001b[0m \u001b[32m━━━━━━━━━━━━━━━━━━━━\u001b[0m\u001b[37m\u001b[0m \u001b[1m82s\u001b[0m 87ms/step - accuracy: 0.7895 - loss: 0.6050 - val_accuracy: 0.7155 - val_loss: 0.8648\n",
            "Epoch 10/10\n",
            "\u001b[1m625/625\u001b[0m \u001b[32m━━━━━━━━━━━━━━━━━━━━\u001b[0m\u001b[37m\u001b[0m \u001b[1m55s\u001b[0m 87ms/step - accuracy: 0.7986 - loss: 0.5614 - val_accuracy: 0.7087 - val_loss: 0.9237\n"
          ]
        }
      ]
    },
    {
      "cell_type": "code",
      "source": [
        "y_test_predictions = model.predict(x_test_normalized)\n",
        "y_test_predictions_classes = tf.argmax(y_test_predictions, axis=1).numpy()\n",
        "y_test_true_classes = tf.argmax(y_test_encoded, axis=1).numpy()"
      ],
      "metadata": {
        "colab": {
          "base_uri": "https://localhost:8080/"
        },
        "id": "9x7YTJM5HjPV",
        "outputId": "c022f52d-b086-4739-d949-980b5b8f56d6"
      },
      "execution_count": 34,
      "outputs": [
        {
          "output_type": "stream",
          "name": "stdout",
          "text": [
            "\u001b[1m313/313\u001b[0m \u001b[32m━━━━━━━━━━━━━━━━━━━━\u001b[0m\u001b[37m\u001b[0m \u001b[1m11s\u001b[0m 34ms/step\n"
          ]
        }
      ]
    },
    {
      "cell_type": "code",
      "source": [
        "cnn_accuracy = accuracy_score(y_test_true_classes, y_test_predictions_classes)\n",
        "cnn_f1 = f1_score(y_test_true_classes, y_test_predictions_classes, average='weighted')\n",
        "cnn_precision = precision_score(y_test_true_classes, y_test_predictions_classes, average='weighted')\n",
        "cnn_recall = recall_score(y_test_true_classes, y_test_predictions_classes, average='weighted')"
      ],
      "metadata": {
        "id": "XikmEQymHu6f"
      },
      "execution_count": 35,
      "outputs": []
    },
    {
      "cell_type": "code",
      "source": [
        "print(\"CNN Performance:\")\n",
        "print(f\"Accuracy: {cnn_accuracy:.2f}\")\n",
        "print(f\"F1-score: {cnn_f1:.2f}\")\n",
        "print(f\"Precision: {cnn_precision:.2f}\")\n",
        "print(f\"Recall: {cnn_recall:.2f}\")"
      ],
      "metadata": {
        "colab": {
          "base_uri": "https://localhost:8080/"
        },
        "id": "uKg-bCCWHvl5",
        "outputId": "9d58e31c-6ac7-4672-bfb2-259691bd0fa8"
      },
      "execution_count": 37,
      "outputs": [
        {
          "output_type": "stream",
          "name": "stdout",
          "text": [
            "CNN Performance:\n",
            "Accuracy: 0.70\n",
            "F1-score: 0.69\n",
            "Precision: 0.71\n",
            "Recall: 0.70\n"
          ]
        }
      ]
    },
    {
      "cell_type": "markdown",
      "source": [
        "As can be seen, we achieved approximately 70% success with CNN. Here, we created the structure of our model using Conv2d, MaxPooling2D, Flatten and Dense layers. We determined the training period as 10 epochs. We set the batch_size parameter to 64 to process 64 images at each step. More successful results can be obtained with longer training periods and different hyperparameters."
      ],
      "metadata": {
        "id": "9wYbaj9TI37H"
      }
    }
  ]
}